{
 "cells": [
  {
   "cell_type": "code",
   "execution_count": 2,
   "id": "f393d48a",
   "metadata": {},
   "outputs": [],
   "source": [
    "import ProblemasControl as Pc\n",
    "import hyperheuristic as hh\n",
    "import tools as tl\n"
   ]
  },
  {
   "cell_type": "code",
   "execution_count": 3,
   "id": "b58abae3",
   "metadata": {},
   "outputs": [],
   "source": [
    "fun=Pc.P11(3)\n",
    "fun. set_search_range ([0.00, 0.00,0.00 ], [800.0,800.0,800.0])\n",
    "prob = fun. get_formatted_problem ()\n",
    "parameters = {\n",
    "    'cardinality': 3,     # Max. number of search operators\n",
    "    'num_iterations': 50, # Max. number of iterations\n",
    "    'num_agents': 25,     # Number of agents (populationsize)\n",
    "    'num_replicas': 60,   # Number of replicas per metaheuristic\n",
    "    'num_steps': 30,      # Max. number of steps (hyper -heuristics)\n",
    "    'stagnation_percentage': 0.4, # Allowed stagnation percentage\n",
    "    'max_temperature': 200, # Initial temperature ( Simulated Annealing)\n",
    "    'cooling_rate': 0.05    # Cooling rate (Simulated Annealing)\n",
    "}\n",
    "hyp = hh. Hyperheuristic ('default.txt', problem=prob,file_label ='HHbuck',parameters=parameters)"
   ]
  },
  {
   "cell_type": "code",
   "execution_count": null,
   "id": "3f78c77d",
   "metadata": {},
   "outputs": [],
   "source": [
    "sol , perf , e_sol = hyp.run ()"
   ]
  },
  {
   "cell_type": "code",
   "execution_count": null,
   "id": "4474293b",
   "metadata": {},
   "outputs": [],
   "source": [
    "print(sol)"
   ]
  },
  {
   "cell_type": "code",
   "execution_count": null,
   "id": "5e74841f",
   "metadata": {},
   "outputs": [],
   "source": [
    "                "
   ]
  }
 ],
 "metadata": {
  "kernelspec": {
   "display_name": "Python 3 (ipykernel)",
   "language": "python",
   "name": "python3"
  },
  "language_info": {
   "codemirror_mode": {
    "name": "ipython",
    "version": 3
   },
   "file_extension": ".py",
   "mimetype": "text/x-python",
   "name": "python",
   "nbconvert_exporter": "python",
   "pygments_lexer": "ipython3",
   "version": "3.9.7"
  }
 },
 "nbformat": 4,
 "nbformat_minor": 5
}
