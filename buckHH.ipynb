{
 "cells": [
  {
   "cell_type": "code",
   "execution_count": 1,
   "id": "c30193e9",
   "metadata": {},
   "outputs": [],
   "source": [
    "import ProblemasControl as Pc\n",
    "import hyperheuristic as hh\n",
    "import tools as tl"
   ]
  },
  {
   "cell_type": "code",
   "execution_count": 21,
   "id": "f393d48a",
   "metadata": {},
   "outputs": [],
   "source": [
    "fun=Pc.P11(3)\n",
    "prob = fun. get_formatted_problem ()"
   ]
  },
  {
   "cell_type": "code",
   "execution_count": 22,
   "id": "b58abae3",
   "metadata": {},
   "outputs": [],
   "source": [
    "parameters = {\n",
    "    'cardinality': 3,     # Max. number of search operators\n",
    "    'num_iterations': 50, # Max. number of iterations\n",
    "    'num_agents': 40,     # Number of agents (populationsize)\n",
    "    'num_replicas': 50,   # Number of replicas per metaheuristic\n",
    "    'num_steps': 20,      # Max. number of steps (hyper -heuristics)\n",
    "    'stagnation_percentage': 0.4, # Allowed stagnation percentage\n",
    "    'max_temperature': 200, # Initial temperature ( Simulated Annealing)\n",
    "    'cooling_rate': 0.05    # Cooling rate (Simulated Annealing)\n",
    "}\n",
    "hyp = hh. Hyperheuristic ('default.txt', problem=prob,file_label ='CECprueba',parameters=parameters)"
   ]
  },
  {
   "cell_type": "code",
   "execution_count": 23,
   "id": "3f78c77d",
   "metadata": {},
   "outputs": [
    {
     "name": "stdout",
     "output_type": "stream",
     "text": [
      "CECprueba2 :: Step: 0, Perf: 0.07689702945048987, e-Sol: [186]\n",
      "CECprueba2 :: Step: 1, Perf: 1.2011834169566413e-05, e-Sol: [186 103]\n"
     ]
    }
   ],
   "source": [
    "   sol , perf , e_sol = hyp.run ()"
   ]
  },
  {
   "cell_type": "code",
   "execution_count": 24,
   "id": "4474293b",
   "metadata": {
    "scrolled": true
   },
   "outputs": [
    {
     "name": "stdout",
     "output_type": "stream",
     "text": [
      "[['swarm_dynamic'\n",
      "  {'factor': 0.7, 'self_conf': 2.54, 'swarm_conf': 2.56, 'version': 'inertial', 'distribution': 'gaussian'}\n",
      "  'greedy']\n",
      " ['genetic_crossover'\n",
      "  {'pairing': 'tournament_2_100', 'crossover': 'blend', 'mating_pool_factor': 0.4}\n",
      "  'metropolis']]\n"
     ]
    }
   ],
   "source": [
    "print(sol)"
   ]
  },
  {
   "cell_type": "code",
   "execution_count": 25,
   "id": "5e74841f",
   "metadata": {},
   "outputs": [],
   "source": [
    "import metaheuristic as mh                \n"
   ]
  },
  {
   "cell_type": "code",
   "execution_count": 26,
   "id": "557c4739",
   "metadata": {},
   "outputs": [],
   "source": [
    "fun = Pc.P11(3)\n",
    "fun. get_function_value ([10.0,30.0,0.3]) # Out: 0.0\n",
    "fun. set_search_range ([ 1.0, 700.0, 0.0], [100.0,1200.0,2])\n",
    "import numpy as np\n",
    "heur=heur=[('differential_mutation', {'expression': 'rand-to-best-and-current', 'num_rands': 1, 'factor': 1.0}, 'metropolis'),\n",
    "      ('genetic_crossover', {'pairing': 'random', 'crossover': 'linear_0.5_0.5', 'mating_pool_factor': 0.4}, 'greedy')]\n",
    "prob=fun. get_formatted_problem ()\n",
    "met= mh. Metaheuristic (prob , heur ,num_agents=50, num_iterations=100)\n",
    "met.run()"
   ]
  },
  {
   "cell_type": "code",
   "execution_count": 27,
   "id": "936d2b4f",
   "metadata": {},
   "outputs": [
    {
     "name": "stdout",
     "output_type": "stream",
     "text": [
      "(array([7.96071220e+01, 9.17677007e+02, 1.62835714e-02]), array(0.00029268))\n"
     ]
    }
   ],
   "source": [
    "    print(met.get_solution())\n"
   ]
  }
 ],
 "metadata": {
  "kernelspec": {
   "display_name": "Python 3 (ipykernel)",
   "language": "python",
   "name": "python3"
  },
  "language_info": {
   "codemirror_mode": {
    "name": "ipython",
    "version": 3
   },
   "file_extension": ".py",
   "mimetype": "text/x-python",
   "name": "python",
   "nbconvert_exporter": "python",
   "pygments_lexer": "ipython3",
   "version": "3.9.13"
  }
 },
 "nbformat": 4,
 "nbformat_minor": 5
}
